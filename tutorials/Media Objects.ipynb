{
 "cells": [
  {
   "cell_type": "code",
   "execution_count": 1,
   "metadata": {},
   "outputs": [],
   "source": [
    "import sys\n",
    "sys.path.insert(0, '../')"
   ]
  },
  {
   "cell_type": "markdown",
   "metadata": {},
   "source": [
    "# Media Objects"
   ]
  },
  {
   "cell_type": "markdown",
   "metadata": {},
   "source": [
    "Yuntu has `Media` objects to hold numpy arrays and additional information regarding its location in time-frequency space. Media objects also implement auxiliary functions for storing, reading and representig such objects."
   ]
  },
  {
   "cell_type": "markdown",
   "metadata": {},
   "source": [
    "#### Creating a media object"
   ]
  },
  {
   "cell_type": "markdown",
   "metadata": {},
   "source": [
    "All `media` objects require at construction that the user specifies the following:\n",
    "\n",
    "* `path` (`str`) \\[optional\\]\n",
    "* `array` (`np.ndarray`) \\[optional\\]\n",
    "* `lazy` (`bool`) \\[optional\\]\n",
    "* `window` (`yuntu.Window`) \\[optional\\]"
   ]
  },
  {
   "cell_type": "markdown",
   "metadata": {},
   "source": [
    "Either path or array must be given. If an array and path are simultaneosly defined, the path will be used automatically when calling the `write` method but no loading will occurr."
   ]
  },
  {
   "cell_type": "markdown",
   "metadata": {},
   "source": [
    "#### Media object attributes"
   ]
  },
  {
   "cell_type": "markdown",
   "metadata": {},
   "source": [
    "All `Media` objects have the following attributes:\n",
    "\n",
    "1. `path`: Indicates the path (remote or in filesystem) from which to load the media array. This path will also\n",
    "be used as the default path in which to save the media object. Possibly empty.\n",
    "2. `array`: The media numpy array. Access to this attribute will trigger a loading event (see lazy loading).\n",
    "3. `window`: A `yuntu.Window` object that specifies the portion of Time-Frequency space that is occupied by this media object.\n",
    "4. `path_ext`: The extension of the `path`, if given."
   ]
  },
  {
   "cell_type": "markdown",
   "metadata": {},
   "source": [
    "#### Lazy loading"
   ]
  },
  {
   "cell_type": "markdown",
   "metadata": {},
   "source": [
    "If no `array` is provided at intialization, the array will be retrieved from the file pointed to by the provided `path`. This will be done at initialization unless the user specifies `lazy=True`. If `lazy=True` the loading of the array will be delayed until the user tries to access the contents of the array.\n",
    "\n",
    "To check if a `Media` object has loaded the array into memory without triggering the loading process use:\n",
    "\n",
    "    media.is_empty()\n",
    "    \n",
    "If you wish to free memory by dumping the array contents but keep reference to the media object, call method:\n",
    "\n",
    "    media.clean()\n",
    "    \n",
    "When contents of the array are newly required another loading of the array from path will be triggered."
   ]
  },
  {
   "cell_type": "markdown",
   "metadata": {},
   "source": [
    "#### Remote paths"
   ]
  },
  {
   "cell_type": "markdown",
   "metadata": {},
   "source": [
    "If the user specifies a path in the filesystem, yuntu will try to load the array from the requested path. But if the path provided is a url with `http` or `scp` schemas, yuntu will attempt to download the file to a temporary directory and will later use the `load` method on the downloaded file.\n",
    "\n",
    "The loading of the remote paths is implemented in the `remote_load` method and is generic, so there should be no reason to modify it. But modify it you wish to implement downloading with a new scheme or to modify the download process. \n",
    "\n",
    "The `path_exist` method will return if the current `path` exists in the filesystem, and `is_remote` will compare the path agains known remote url patterns."
   ]
  },
  {
   "cell_type": "markdown",
   "metadata": {},
   "source": [
    "#### Media objects as Numpy Arrays"
   ]
  },
  {
   "cell_type": "markdown",
   "metadata": {},
   "source": [
    "Although `Media` objects are not numpy arrays *per se* they will behave exactly as a `numpy.ndarray`. All methods of a `numpy.ndarray` are available to `Media` objects, and they will operate with other numpy arrays, methods or functions in the usual way.\n",
    "\n",
    "If you wish to access the raw numpy array within the `Media` objects, use the attribute:\n",
    "\n",
    "    media.array"
   ]
  },
  {
   "cell_type": "markdown",
   "metadata": {},
   "source": [
    "#### Simple (JSON) representations of Media Objects"
   ]
  },
  {
   "cell_type": "markdown",
   "metadata": {},
   "source": [
    "All media objects have a simple \"JSON\"-able representation accesible through the method:\n",
    "    \n",
    "    data = media.to_dict()\n",
    "    \n",
    "This information can then be used to reconstruct the media object by with:\n",
    "\n",
    "    Media.from_dict(data)"
   ]
  },
  {
   "cell_type": "markdown",
   "metadata": {},
   "source": [
    "#### Defining a new Media object"
   ]
  },
  {
   "cell_type": "markdown",
   "metadata": {},
   "source": [
    "The `Media` class is abstract, and thus serves as a universal interface for all such objects. Any `Media` object type must implement the following methods:\n",
    "\n",
    "* `load`\n",
    "* `write`\n",
    "* `plot`\n",
    "\n",
    "If new information is required to construct the media object, you should also consider extending the `to_dict` method."
   ]
  },
  {
   "cell_type": "markdown",
   "metadata": {},
   "source": [
    "#### Some extra methods"
   ]
  },
  {
   "cell_type": "markdown",
   "metadata": {},
   "source": [
    "All media objects can be normalized with:\n",
    "\n",
    "    normalized = media.normalize()\n",
    "    \n",
    "A copy of the media object can be obtained by:\n",
    "\n",
    "    copy = media.copy()"
   ]
  },
  {
   "cell_type": "markdown",
   "metadata": {},
   "source": [
    "## Temporal Media Objects"
   ]
  },
  {
   "cell_type": "markdown",
   "metadata": {},
   "source": [
    "Media objects that have explicit time reference for the data it holds (such as audio/video data, or an spectrogram) should also inherit from the special mixin `TimeMediaMixin`. These require that the user provides information on the temporal range over which the media object holds data. \n",
    "\n",
    "It is assumed that a single axis of the `Media` array represents the `time` axis, so that slices along this axis represents the media value at diferent times. By default, the time axis is the 0-th axis. For example, `Audio` objects are `TemporalMedia` objects with the first axis being the time axis. Therefore\n",
    "\n",
    "    audio[0], audio[1], ..., audio[n], ...\n",
    "    \n",
    "represent the audio contents at different times. Also, `Spectrogram` objects are also `TimeMedia` objects (but also `FrequencyMedia` objects) but with the second axis as the time axis. Thus\n",
    "\n",
    "    spectrogram[:, 0], spectrogram[:, 1], ..., spectrogram[:, n], ...\n",
    "    \n",
    "represent spectrogram slices at different times."
   ]
  },
  {
   "cell_type": "markdown",
   "metadata": {},
   "source": [
    "#### Creating a temporal media object"
   ]
  },
  {
   "cell_type": "markdown",
   "metadata": {},
   "source": [
    "All `TemporalMedia` object require, aside from the usual media requirements, the following data:\n",
    "\n",
    "1. `start` (`float`) [optional]: Time at which the media object starts. Defaults to 0. Useful when doing things around a reference object.\n",
    "2. `duration` (`float`) [optional]: Temporal length of the media object.\n",
    "3. `resolution` (`float`) [optional]: The temporal resolution of the temporal sampling. This translates to the number of array bins per second.\n",
    "4. `time_axis` (`TimeAxis`) [optional]: The temporal axis object that holds information on the mapping of time to array bins.\n",
    "\n",
    "If no `time_axis` is provided, the `start`, `duration` and `resolution` arguments will be used to create a new `TimeAxis` instance. Otherwise, this information will be discarded as the `time_axis` object has precedence."
   ]
  },
  {
   "cell_type": "markdown",
   "metadata": {},
   "source": [
    "#### Time Axis"
   ]
  },
  {
   "cell_type": "code",
   "execution_count": null,
   "metadata": {},
   "outputs": [],
   "source": []
  }
 ],
 "metadata": {
  "kernelspec": {
   "display_name": "yunyu",
   "language": "python",
   "name": "yunyu"
  },
  "language_info": {
   "codemirror_mode": {
    "name": "ipython",
    "version": 3
   },
   "file_extension": ".py",
   "mimetype": "text/x-python",
   "name": "python",
   "nbconvert_exporter": "python",
   "pygments_lexer": "ipython3",
   "version": "3.7.4"
  }
 },
 "nbformat": 4,
 "nbformat_minor": 4
}
