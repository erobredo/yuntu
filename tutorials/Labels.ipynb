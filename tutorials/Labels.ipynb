{
 "cells": [
  {
   "cell_type": "code",
   "execution_count": 1,
   "metadata": {},
   "outputs": [],
   "source": [
    "import sys\n",
    "sys.path.insert(0, '../')"
   ]
  },
  {
   "cell_type": "markdown",
   "metadata": {},
   "source": [
    "## Labels"
   ]
  },
  {
   "cell_type": "markdown",
   "metadata": {},
   "source": [
    "Label objects are used to annotate objects."
   ]
  },
  {
   "cell_type": "code",
   "execution_count": 2,
   "metadata": {},
   "outputs": [],
   "source": [
    "from yuntu.core.annotation.labels import Label, Labels"
   ]
  },
  {
   "cell_type": "markdown",
   "metadata": {},
   "source": [
    " A label is a descriptive tag meant to adscribe the object into a single class within a semantic context. The context is specified by giving a `key`, and the category is defined by the label `value`."
   ]
  },
  {
   "cell_type": "code",
   "execution_count": 3,
   "metadata": {},
   "outputs": [
    {
     "name": "stdout",
     "output_type": "stream",
     "text": [
      "Label key: species\n",
      "Label value: Myotis myotis\n",
      "species: Myotis myotis\n"
     ]
    }
   ],
   "source": [
    "label = Label(key='species', value='Myotis myotis')\n",
    "print(f'Label key: {label.key}')\n",
    "print(f'Label value: {label.value}')\n",
    "print(label)"
   ]
  },
  {
   "cell_type": "markdown",
   "metadata": {},
   "source": [
    "The label objects have a dictionary representation accesible through the `to_dict` method:"
   ]
  },
  {
   "cell_type": "code",
   "execution_count": 4,
   "metadata": {},
   "outputs": [
    {
     "name": "stdout",
     "output_type": "stream",
     "text": [
      "Pretty printing has been turned OFF\n"
     ]
    }
   ],
   "source": [
    "pprint(label.to_dict())"
   ]
  },
  {
   "cell_type": "markdown",
   "metadata": {},
   "source": [
    "An optional `type` argument is given to help group label keys:"
   ]
  },
  {
   "cell_type": "code",
   "execution_count": 5,
   "metadata": {},
   "outputs": [
    {
     "name": "stdout",
     "output_type": "stream",
     "text": [
      "Label type: taxonomic\n",
      "True\n"
     ]
    }
   ],
   "source": [
    "label = Label(key='species', value='Myotis myotis', type='taxonomic')\n",
    "print(f'Label type: {label.type}')\n",
    "print(label.is_type('taxonomic'))"
   ]
  },
  {
   "cell_type": "markdown",
   "metadata": {},
   "source": [
    "`Label` objects are be grouped in a `Labels` object to give a complex description of an object."
   ]
  },
  {
   "cell_type": "code",
   "execution_count": 6,
   "metadata": {},
   "outputs": [
    {
     "name": "stdout",
     "output_type": "stream",
     "text": [
      "species: Myotis myotis\n",
      "genus: Myotis\n",
      "family: Vespertilionidae\n"
     ]
    }
   ],
   "source": [
    "labels = Labels([\n",
    "    Label('species', 'Myotis myotis'),\n",
    "    Label('genus', 'Myotis'),\n",
    "    Label('family', 'Vespertilionidae')\n",
    "])\n",
    "\n",
    "print(labels)"
   ]
  },
  {
   "cell_type": "markdown",
   "metadata": {},
   "source": [
    "They can also be created with the dictionary representation of `Label`:"
   ]
  },
  {
   "cell_type": "code",
   "execution_count": 7,
   "metadata": {},
   "outputs": [
    {
     "name": "stdout",
     "output_type": "stream",
     "text": [
      "species: Myotis myotis\n",
      "genus: Myotis\n",
      "family: Vespertilionidae\n"
     ]
    }
   ],
   "source": [
    "labels = Labels([\n",
    "    {'key': 'species', 'value': 'Myotis myotis'},\n",
    "    {'key': 'genus', 'value': 'Myotis'},\n",
    "    {'key': 'family', 'value': 'Vespertilionidae', 'type': 'taxonomic'},\n",
    "])\n",
    "\n",
    "print(labels)"
   ]
  },
  {
   "cell_type": "markdown",
   "metadata": {},
   "source": [
    "An error will be raised if two labels have the same key."
   ]
  },
  {
   "cell_type": "code",
   "execution_count": 8,
   "metadata": {},
   "outputs": [
    {
     "name": "stdout",
     "output_type": "stream",
     "text": [
      "Label list has two values for the same key.\n"
     ]
    }
   ],
   "source": [
    "try:\n",
    "    Labels([\n",
    "        {'key': 'species', 'value': 'Myotis myotis'},\n",
    "        {'key': 'species', 'value': 'Molossus rufus'},\n",
    "    ])\n",
    "except ValueError as error:\n",
    "    print(error)"
   ]
  },
  {
   "cell_type": "markdown",
   "metadata": {},
   "source": [
    "The `Labels` object can be transformed into a JSON friendly representation with the method `to_dict` (although the returned value is not a dictionary)"
   ]
  },
  {
   "cell_type": "code",
   "execution_count": 9,
   "metadata": {},
   "outputs": [
    {
     "name": "stdout",
     "output_type": "stream",
     "text": [
      "Pretty printing has been turned ON\n"
     ]
    }
   ],
   "source": [
    "pprint(labels.to_dict())"
   ]
  },
  {
   "cell_type": "markdown",
   "metadata": {},
   "source": [
    "New labels can be added with the use of the `add` method"
   ]
  },
  {
   "cell_type": "code",
   "execution_count": 10,
   "metadata": {},
   "outputs": [
    {
     "name": "stdout",
     "output_type": "stream",
     "text": [
      "species: Myotis myotis\n",
      "genus: Myotis\n",
      "family: Vespertilionidae\n",
      "order: Chiroptera\n",
      "class: Mammalia\n",
      "phylum: Chordata\n"
     ]
    }
   ],
   "source": [
    "labels.add(key='order', value='Chiroptera')\n",
    "labels.add(data={'key': 'class', 'value': 'Mammalia'})\n",
    "labels.add(label=Label('phylum', 'Chordata'))\n",
    "\n",
    "print(labels)"
   ]
  },
  {
   "cell_type": "markdown",
   "metadata": {},
   "source": [
    "and removed with the `remove` method"
   ]
  },
  {
   "cell_type": "code",
   "execution_count": 11,
   "metadata": {},
   "outputs": [
    {
     "name": "stdout",
     "output_type": "stream",
     "text": [
      "species: Myotis myotis\n",
      "genus: Myotis\n",
      "family: Vespertilionidae\n"
     ]
    }
   ],
   "source": [
    "labels.remove('phylum')\n",
    "labels.remove('class')\n",
    "labels.remove('order')\n",
    "\n",
    "print(labels)"
   ]
  },
  {
   "cell_type": "markdown",
   "metadata": {},
   "source": [
    "You can check if a `Labels` object has a label for a specific key by:"
   ]
  },
  {
   "cell_type": "code",
   "execution_count": 12,
   "metadata": {},
   "outputs": [
    {
     "data": {
      "text/plain": [
       "True"
      ]
     },
     "execution_count": 12,
     "metadata": {},
     "output_type": "execute_result"
    }
   ],
   "source": [
    "'species' in labels"
   ]
  },
  {
   "cell_type": "markdown",
   "metadata": {},
   "source": [
    "Access to label types and values can be done in any of the following ways:"
   ]
  },
  {
   "cell_type": "code",
   "execution_count": 13,
   "metadata": {},
   "outputs": [
    {
     "name": "stdout",
     "output_type": "stream",
     "text": [
      "Get label by key: labels[\"species\"] = species: Myotis myotis\n",
      "Get label by key: labels.get(\"species\") = species: Myotis myotis\n",
      "Get label value by key: labels.get_value(\"species\") = Myotis myotis\n",
      "Get label type by key: labels.get_type(\"species\") = None\n"
     ]
    }
   ],
   "source": [
    "print(f'Get label by key: labels[\"species\"] = {labels[\"species\"]}')\n",
    "print(f'Get label by key: labels.get(\"species\") = {labels.get(\"species\")}')\n",
    "print(f'Get label value by key: labels.get_value(\"species\") = {labels.get_value(\"species\")}')\n",
    "print(f'Get label type by key: labels.get_type(\"species\") = {labels.get_type(\"species\")}')"
   ]
  },
  {
   "cell_type": "markdown",
   "metadata": {},
   "source": [
    "You can iterate over the contained labels or label values with:"
   ]
  },
  {
   "cell_type": "code",
   "execution_count": 14,
   "metadata": {},
   "outputs": [
    {
     "name": "stdout",
     "output_type": "stream",
     "text": [
      "species: Myotis myotis\n",
      "genus: Myotis\n",
      "family: Vespertilionidae\n",
      "Myotis myotis\n",
      "Myotis\n",
      "Vespertilionidae\n"
     ]
    }
   ],
   "source": [
    "for label in labels:\n",
    "    print(label)\n",
    "    \n",
    "for value in labels.iter_values():\n",
    "    print(value)"
   ]
  },
  {
   "cell_type": "markdown",
   "metadata": {},
   "source": [
    "Labels with a specific type can be retrieved with use of the method `get_by_type`"
   ]
  },
  {
   "cell_type": "code",
   "execution_count": 15,
   "metadata": {},
   "outputs": [
    {
     "data": {
      "text/plain": [
       "[Label(key=family, value=Vespertilionidae, type=taxonomic)]"
      ]
     },
     "execution_count": 15,
     "metadata": {},
     "output_type": "execute_result"
    }
   ],
   "source": [
    "labels.get_by_type('taxonomic')"
   ]
  }
 ],
 "metadata": {
  "kernelspec": {
   "display_name": "Python 3",
   "language": "python",
   "name": "python3"
  },
  "language_info": {
   "codemirror_mode": {
    "name": "ipython",
    "version": 3
   },
   "file_extension": ".py",
   "mimetype": "text/x-python",
   "name": "python",
   "nbconvert_exporter": "python",
   "pygments_lexer": "ipython3",
   "version": "3.7.4"
  }
 },
 "nbformat": 4,
 "nbformat_minor": 4
}
